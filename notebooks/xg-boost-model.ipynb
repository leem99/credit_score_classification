{
 "cells": [
  {
   "cell_type": "markdown",
   "id": "cb7cf848",
   "metadata": {
    "papermill": {
     "duration": 0.003521,
     "end_time": "2022-11-06T16:02:17.450460",
     "exception": false,
     "start_time": "2022-11-06T16:02:17.446939",
     "status": "completed"
    },
    "tags": []
   },
   "source": [
    "### XGBoost Classification model\n",
    "\n",
    "Relevant guides\n",
    "*  [Kaggle Notebook](https://www.kaggle.com/code/prashant111/xgboost-k-fold-cv-feature-importance/notebook) introduction to XGBoost\n",
    "* [Blogpost](https://www.mygreatlearning.com/blog/xgboost-algorithm/)\n",
    "* [XGBoost paper](https://arxiv.org/pdf/1603.02754.pdf)"
   ]
  },
  {
   "cell_type": "code",
   "execution_count": 1,
   "id": "0d530037",
   "metadata": {
    "_cell_guid": "b1076dfc-b9ad-4769-8c92-a6c4dae69d19",
    "_uuid": "8f2839f25d086af736a60e9eeb907d3b93b6e0e5",
    "execution": {
     "iopub.execute_input": "2022-11-06T16:02:17.458376Z",
     "iopub.status.busy": "2022-11-06T16:02:17.457007Z",
     "iopub.status.idle": "2022-11-06T16:02:18.878015Z",
     "shell.execute_reply": "2022-11-06T16:02:18.876767Z"
    },
    "papermill": {
     "duration": 1.427952,
     "end_time": "2022-11-06T16:02:18.880923",
     "exception": false,
     "start_time": "2022-11-06T16:02:17.452971",
     "status": "completed"
    },
    "tags": []
   },
   "outputs": [],
   "source": [
    "import pandas as pd\n",
    "from scipy.stats import distributions\n",
    "import pickle\n",
    "import time\n",
    "\n",
    "import xgboost as xgb\n",
    "from sklearn.metrics import f1_score, make_scorer\n",
    "from sklearn.model_selection import RandomizedSearchCV, GridSearchCV\n",
    "from sklearn.pipeline import Pipeline\n",
    "\n",
    "\n",
    "import matplotlib.pyplot as plt\n",
    "import seaborn as sns\n",
    "\n",
    "pd.set_option(\"display.max_columns\", None)\n",
    "%config Completer.use_jedi = False"
   ]
  },
  {
   "cell_type": "markdown",
   "id": "87cf9a09",
   "metadata": {
    "papermill": {
     "duration": 0.002762,
     "end_time": "2022-11-06T16:02:18.894718",
     "exception": false,
     "start_time": "2022-11-06T16:02:18.891956",
     "status": "completed"
    },
    "tags": []
   },
   "source": [
    "#### Read in Data"
   ]
  },
  {
   "cell_type": "code",
   "execution_count": 2,
   "id": "a02b738e",
   "metadata": {
    "execution": {
     "iopub.execute_input": "2022-11-06T16:02:18.901347Z",
     "iopub.status.busy": "2022-11-06T16:02:18.900940Z",
     "iopub.status.idle": "2022-11-06T16:02:21.606944Z",
     "shell.execute_reply": "2022-11-06T16:02:21.605895Z"
    },
    "papermill": {
     "duration": 2.712533,
     "end_time": "2022-11-06T16:02:21.609632",
     "exception": false,
     "start_time": "2022-11-06T16:02:18.897099",
     "status": "completed"
    },
    "tags": []
   },
   "outputs": [],
   "source": [
    "input_path = \"../input/credit-score-prediction-project/\"\n",
    "\n",
    "# get training data\n",
    "X_train_df = pd.read_csv(input_path + \"train_cleaned_imputed.csv\")\n",
    "y_train_df = X_train_df.pop(\"Credit_Score\")\n",
    "\n",
    "y_train = y_train_df.values\n",
    "X_train = X_train_df.values\n",
    "\n",
    "#TODO: convert data to Dmatrix\n",
    "\n",
    "# get dev data\n",
    "X_dev_df = pd.read_csv(input_path + \"dev_cleaned_imputed.csv\")\n",
    "y_dev_df = X_dev_df.pop(\"Credit_Score\")\n",
    "\n",
    "y_dev = y_dev_df.values\n",
    "X_dev = X_dev_df.values\n",
    "\n",
    "\n",
    "#TODO: convert data to Dmatrix"
   ]
  },
  {
   "cell_type": "markdown",
   "id": "40321106",
   "metadata": {
    "papermill": {
     "duration": 0.002138,
     "end_time": "2022-11-06T16:02:21.614527",
     "exception": false,
     "start_time": "2022-11-06T16:02:21.612389",
     "status": "completed"
    },
    "tags": []
   },
   "source": [
    "#### Train a model"
   ]
  },
  {
   "cell_type": "code",
   "execution_count": 3,
   "id": "ece54888",
   "metadata": {
    "execution": {
     "iopub.execute_input": "2022-11-06T16:02:21.620891Z",
     "iopub.status.busy": "2022-11-06T16:02:21.620486Z",
     "iopub.status.idle": "2022-11-06T16:09:42.769450Z",
     "shell.execute_reply": "2022-11-06T16:09:42.768450Z"
    },
    "papermill": {
     "duration": 441.156858,
     "end_time": "2022-11-06T16:09:42.773741",
     "exception": false,
     "start_time": "2022-11-06T16:02:21.616883",
     "status": "completed"
    },
    "tags": []
   },
   "outputs": [
    {
     "name": "stdout",
     "output_type": "stream",
     "text": [
      "Fitting 5 folds for each of 5 candidates, totalling 25 fits\n"
     ]
    },
    {
     "data": {
      "text/plain": [
       "RandomizedSearchCV(cv=5,\n",
       "                   estimator=XGBClassifier(base_score=None, booster=None,\n",
       "                                           callbacks=None,\n",
       "                                           colsample_bylevel=None,\n",
       "                                           colsample_bynode=None,\n",
       "                                           colsample_bytree=None,\n",
       "                                           early_stopping_rounds=None,\n",
       "                                           enable_categorical=False,\n",
       "                                           eval_metric=None, gamma=None,\n",
       "                                           gpu_id=None, grow_policy=None,\n",
       "                                           importance_type=None,\n",
       "                                           interaction_constraints=None,\n",
       "                                           learning_rate=None, max_bin=None,...\n",
       "                                           n_estimators=100, n_jobs=None,\n",
       "                                           num_parallel_tree=None,\n",
       "                                           predictor=None, random_state=None,\n",
       "                                           reg_alpha=None, reg_lambda=None, ...),\n",
       "                   n_iter=5, n_jobs=-1,\n",
       "                   param_distributions={'colsample_bytree': [0.3, 0.4, 0.5,\n",
       "                                                             0.7],\n",
       "                                        'eta': [0.05, 0.1, 0.15, 0.2, 0.25,\n",
       "                                                0.3],\n",
       "                                        'gamma': [0.0, 0.1, 0.2, 0.3, 0.4],\n",
       "                                        'max_depth': [3, 4, 5, 6, 8, 10, 12,\n",
       "                                                      15],\n",
       "                                        'min_child_weight': [1, 3, 5, 7]},\n",
       "                   random_state=99, scoring='neg_log_loss', verbose=10)"
      ]
     },
     "execution_count": 3,
     "metadata": {},
     "output_type": "execute_result"
    }
   ],
   "source": [
    "clf = xgb.XGBClassifier()\n",
    "parameters = {\n",
    "     \"eta\"    : [0.05, 0.10, 0.15, 0.20, 0.25, 0.30 ] ,\n",
    "     \"max_depth\"        : [ 3, 4, 5, 6, 8, 10, 12, 15],\n",
    "     \"min_child_weight\" : [ 1, 3, 5, 7 ],\n",
    "     \"gamma\"            : [ 0.0, 0.1, 0.2 , 0.3, 0.4 ],\n",
    "     \"colsample_bytree\" : [ 0.3, 0.4, 0.5 , 0.7 ]}\n",
    "\n",
    "\n",
    "n_iter = 5\n",
    "random_search_cv = RandomizedSearchCV(clf, parameters, \n",
    "                                      n_jobs=-1, n_iter=n_iter, random_state=99,\n",
    "                                      scoring=\"neg_log_loss\",\n",
    "                                      verbose=10,\n",
    "                                      cv=5)\n",
    "\n",
    "random_search_cv.fit(X_train, y_train)"
   ]
  },
  {
   "cell_type": "code",
   "execution_count": null,
   "id": "ee2e689d",
   "metadata": {
    "papermill": {
     "duration": 0.002519,
     "end_time": "2022-11-06T16:09:42.779173",
     "exception": false,
     "start_time": "2022-11-06T16:09:42.776654",
     "status": "completed"
    },
    "tags": []
   },
   "outputs": [],
   "source": []
  }
 ],
 "metadata": {
  "kernelspec": {
   "display_name": "Python 3",
   "language": "python",
   "name": "python3"
  },
  "language_info": {
   "codemirror_mode": {
    "name": "ipython",
    "version": 3
   },
   "file_extension": ".py",
   "mimetype": "text/x-python",
   "name": "python",
   "nbconvert_exporter": "python",
   "pygments_lexer": "ipython3",
   "version": "3.7.12"
  },
  "papermill": {
   "default_parameters": {},
   "duration": 456.459795,
   "end_time": "2022-11-06T16:09:45.402603",
   "environment_variables": {},
   "exception": null,
   "input_path": "__notebook__.ipynb",
   "output_path": "__notebook__.ipynb",
   "parameters": {},
   "start_time": "2022-11-06T16:02:08.942808",
   "version": "2.3.4"
  }
 },
 "nbformat": 4,
 "nbformat_minor": 5
}
