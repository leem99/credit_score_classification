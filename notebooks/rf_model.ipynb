{
 "cells": [
  {
   "cell_type": "markdown",
   "id": "d9726316",
   "metadata": {},
   "source": [
    "## Develop Classification Models"
   ]
  },
  {
   "cell_type": "code",
   "execution_count": 1,
   "id": "11565122",
   "metadata": {},
   "outputs": [],
   "source": [
    "import pandas as pd\n",
    "from scipy.stats import distributions\n",
    "import mlflow\n",
    "import pickle\n",
    "\n",
    "from sklearn.ensemble import RandomForestClassifier\n",
    "from sklearn.metrics import f1_score, make_scorer\n",
    "from sklearn.model_selection import RandomizedSearchCV, GridSearchCV\n",
    "from sklearn.pipeline import Pipeline\n",
    "\n",
    "\n",
    "import matplotlib.pyplot as plt\n",
    "import seaborn as sns\n",
    "\n",
    "pd.set_option(\"display.max_columns\", None)\n",
    "%config Completer.use_jedi = False"
   ]
  },
  {
   "cell_type": "markdown",
   "id": "b6d8272e",
   "metadata": {},
   "source": [
    "Helper Functions"
   ]
  },
  {
   "cell_type": "code",
   "execution_count": 2,
   "id": "4ae62388",
   "metadata": {},
   "outputs": [],
   "source": [
    "class LogUniformInt:\n",
    "    \n",
    "    def __init__(self, min_val, max_val):\n",
    "        self.min_val = min_val\n",
    "        self.max_val = max_val \n",
    "        \n",
    "    def rvs(self, random_state=None):\n",
    "        \"\"\"\n",
    "        rvs method that is needed by RandomSearchCV\n",
    "        \"\"\"\n",
    "        \n",
    "        # call the loguniform distribution that is built into scipy\n",
    "        lu = distributions.loguniform(self.min_val, self.max_val)\n",
    "        \n",
    "        # convert outut to integer\n",
    "        rand_int = int(lu.rvs(random_state=random_state))\n",
    "        \n",
    "        return rand_int"
   ]
  },
  {
   "cell_type": "markdown",
   "id": "0bb8b90c",
   "metadata": {},
   "source": [
    "Create our MLflow Database to Log Results\n",
    "\n",
    "`experiment_id` is `1`"
   ]
  },
  {
   "cell_type": "code",
   "execution_count": 3,
   "id": "933b0a39",
   "metadata": {},
   "outputs": [],
   "source": [
    "mlflow.set_tracking_uri(\"../mlflow/mlruns/\")\n",
    "#experiment_id = mlflow.create_experiment(name=\"credit_score_classification\")\n",
    "mlflow.set_experiment(experiment_id=\"1\")\n",
    "mlflow.sklearn.autolog(log_models=False, max_tuning_runs=100)"
   ]
  },
  {
   "cell_type": "markdown",
   "id": "53246e78",
   "metadata": {},
   "source": [
    "#### Read in and standardize data"
   ]
  },
  {
   "cell_type": "code",
   "execution_count": 4,
   "id": "1fec09ba",
   "metadata": {},
   "outputs": [],
   "source": [
    "# get training data\n",
    "X_train_df = pd.read_csv(\"../data/train_cleaned_imputed.csv\")\n",
    "y_train_df = X_train_df.pop(\"Credit_Score\")\n",
    "\n",
    "y_train = y_train_df.values\n",
    "X_train = X_train_df.values\n",
    "\n",
    "# get dev data\n",
    "X_dev_df = pd.read_csv(\"../data/dev_cleaned_imputed.csv\")\n",
    "y_dev_df = X_dev_df.pop(\"Credit_Score\")\n",
    "\n",
    "y_dev = y_dev_df.values\n",
    "X_dev = X_dev_df.values"
   ]
  },
  {
   "cell_type": "markdown",
   "id": "40a0babc",
   "metadata": {},
   "source": [
    "Train Model\n",
    "\n",
    "According to the `RandomSearchCV` [documentation](https://scikit-learn.org/stable/modules/generated/sklearn.model_selection.RandomizedSearchCV.html), our param_distributions are lists that will be sampled uniformly or distributions with a `rvs` method for sampling (such as those from scipy.stats.distributions).\n",
    "\n",
    "\n",
    "[Example project](https://jamesrledoux.com/code/randomized_parameter_search) using `RandomSearchCV`.\n",
    "\n",
    "For values that can span mulitiple orders of magnitude, \n",
    "we will want to sample using a [loguniform distribution](https://docs.scipy.org/doc/scipy/reference/generated/scipy.stats.loguniform.html#scipy.stats.loguniform).\n",
    "[This blog post](https://towardsdatascience.com/why-is-the-log-uniform-distribution-useful-for-hyperparameter-tuning-63c8d331698) does a good job of explaining why to use the log normal.\n",
    "\n",
    "\n",
    "Also here is [an interesting blog post](https://towardsdatascience.com/comprehensive-guide-on-multiclass-classification-metrics-af94cfb83fbd) on multiclass-classification."
   ]
  },
  {
   "cell_type": "code",
   "execution_count": null,
   "id": "b9e7de35",
   "metadata": {},
   "outputs": [
    {
     "name": "stderr",
     "output_type": "stream",
     "text": [
      "2022/09/10 19:11:01 INFO mlflow.utils.autologging_utils: Created MLflow autologging run with ID 'bb7592752abd49a4981b4a39ea28ca20', which will track hyperparameters, performance metrics, model artifacts, and lineage information for the current sklearn workflow\n"
     ]
    },
    {
     "name": "stdout",
     "output_type": "stream",
     "text": [
      "Fitting 5 folds for each of 100 candidates, totalling 500 fits\n",
      "[CV 1/5; 1/100] START max_depth=3, max_features=0.31639383705357266, min_samples_split=29\n",
      "[CV 1/5; 1/100] END max_depth=3, max_features=0.31639383705357266, min_samples_split=29;, score=0.652 total time=  47.0s\n",
      "[CV 2/5; 1/100] START max_depth=3, max_features=0.31639383705357266, min_samples_split=29\n",
      "[CV 2/5; 1/100] END max_depth=3, max_features=0.31639383705357266, min_samples_split=29;, score=0.657 total time=  39.1s\n",
      "[CV 3/5; 1/100] START max_depth=3, max_features=0.31639383705357266, min_samples_split=29\n",
      "[CV 3/5; 1/100] END max_depth=3, max_features=0.31639383705357266, min_samples_split=29;, score=0.652 total time=  44.9s\n",
      "[CV 4/5; 1/100] START max_depth=3, max_features=0.31639383705357266, min_samples_split=29\n",
      "[CV 4/5; 1/100] END max_depth=3, max_features=0.31639383705357266, min_samples_split=29;, score=0.642 total time=  48.0s\n",
      "[CV 5/5; 1/100] START max_depth=3, max_features=0.31639383705357266, min_samples_split=29\n",
      "[CV 5/5; 1/100] END max_depth=3, max_features=0.31639383705357266, min_samples_split=29;, score=0.650 total time=  45.8s\n",
      "[CV 1/5; 2/100] START max_depth=10, max_features=0.25269095435762046, min_samples_split=26\n",
      "[CV 1/5; 2/100] END max_depth=10, max_features=0.25269095435762046, min_samples_split=26;, score=0.717 total time= 1.6min\n",
      "[CV 2/5; 2/100] START max_depth=10, max_features=0.25269095435762046, min_samples_split=26\n",
      "[CV 2/5; 2/100] END max_depth=10, max_features=0.25269095435762046, min_samples_split=26;, score=0.716 total time= 1.7min\n",
      "[CV 3/5; 2/100] START max_depth=10, max_features=0.25269095435762046, min_samples_split=26\n",
      "[CV 3/5; 2/100] END max_depth=10, max_features=0.25269095435762046, min_samples_split=26;, score=0.713 total time= 1.6min\n",
      "[CV 4/5; 2/100] START max_depth=10, max_features=0.25269095435762046, min_samples_split=26\n",
      "[CV 4/5; 2/100] END max_depth=10, max_features=0.25269095435762046, min_samples_split=26;, score=0.708 total time= 1.6min\n",
      "[CV 5/5; 2/100] START max_depth=10, max_features=0.25269095435762046, min_samples_split=26\n",
      "[CV 5/5; 2/100] END max_depth=10, max_features=0.25269095435762046, min_samples_split=26;, score=0.714 total time= 1.6min\n",
      "[CV 1/5; 3/100] START max_depth=3, max_features=0.34685400080344453, min_samples_split=12\n",
      "[CV 1/5; 3/100] END max_depth=3, max_features=0.34685400080344453, min_samples_split=12;, score=0.653 total time=30.8min\n",
      "[CV 2/5; 3/100] START max_depth=3, max_features=0.34685400080344453, min_samples_split=12\n",
      "[CV 2/5; 3/100] END max_depth=3, max_features=0.34685400080344453, min_samples_split=12;, score=0.656 total time=17.9min\n",
      "[CV 3/5; 3/100] START max_depth=3, max_features=0.34685400080344453, min_samples_split=12\n",
      "[CV 3/5; 3/100] END max_depth=3, max_features=0.34685400080344453, min_samples_split=12;, score=0.653 total time=16.9min\n",
      "[CV 4/5; 3/100] START max_depth=3, max_features=0.34685400080344453, min_samples_split=12\n",
      "[CV 4/5; 3/100] END max_depth=3, max_features=0.34685400080344453, min_samples_split=12;, score=0.645 total time=33.6min\n",
      "[CV 5/5; 3/100] START max_depth=3, max_features=0.34685400080344453, min_samples_split=12\n",
      "[CV 5/5; 3/100] END max_depth=3, max_features=0.34685400080344453, min_samples_split=12;, score=0.650 total time=16.0min\n",
      "[CV 1/5; 4/100] START max_depth=19, max_features=0.34868644709620894, min_samples_split=2\n",
      "[CV 1/5; 4/100] END max_depth=19, max_features=0.34868644709620894, min_samples_split=2;, score=0.767 total time=83.8min\n",
      "[CV 2/5; 4/100] START max_depth=19, max_features=0.34868644709620894, min_samples_split=2\n",
      "[CV 2/5; 4/100] END max_depth=19, max_features=0.34868644709620894, min_samples_split=2;, score=0.768 total time=35.2min\n",
      "[CV 3/5; 4/100] START max_depth=19, max_features=0.34868644709620894, min_samples_split=2\n",
      "[CV 3/5; 4/100] END max_depth=19, max_features=0.34868644709620894, min_samples_split=2;, score=0.766 total time=82.6min\n",
      "[CV 4/5; 4/100] START max_depth=19, max_features=0.34868644709620894, min_samples_split=2\n",
      "[CV 4/5; 4/100] END max_depth=19, max_features=0.34868644709620894, min_samples_split=2;, score=0.761 total time=112.7min\n",
      "[CV 5/5; 4/100] START max_depth=19, max_features=0.34868644709620894, min_samples_split=2\n",
      "[CV 5/5; 4/100] END max_depth=19, max_features=0.34868644709620894, min_samples_split=2;, score=0.768 total time=109.1min\n",
      "[CV 1/5; 5/100] START max_depth=8, max_features=0.2736537436527186, min_samples_split=15\n",
      "[CV 1/5; 5/100] END max_depth=8, max_features=0.2736537436527186, min_samples_split=15;, score=0.715 total time=127.3min\n",
      "[CV 2/5; 5/100] START max_depth=8, max_features=0.2736537436527186, min_samples_split=15\n",
      "[CV 2/5; 5/100] END max_depth=8, max_features=0.2736537436527186, min_samples_split=15;, score=0.711 total time=31.7min\n",
      "[CV 3/5; 5/100] START max_depth=8, max_features=0.2736537436527186, min_samples_split=15\n",
      "[CV 3/5; 5/100] END max_depth=8, max_features=0.2736537436527186, min_samples_split=15;, score=0.710 total time=20.9min\n",
      "[CV 4/5; 5/100] START max_depth=8, max_features=0.2736537436527186, min_samples_split=15\n",
      "[CV 4/5; 5/100] END max_depth=8, max_features=0.2736537436527186, min_samples_split=15;, score=0.703 total time=45.2min\n",
      "[CV 5/5; 5/100] START max_depth=8, max_features=0.2736537436527186, min_samples_split=15\n",
      "[CV 5/5; 5/100] END max_depth=8, max_features=0.2736537436527186, min_samples_split=15;, score=0.709 total time=32.1min\n",
      "[CV 1/5; 6/100] START max_depth=2, max_features=0.29362563790167306, min_samples_split=39\n",
      "[CV 1/5; 6/100] END max_depth=2, max_features=0.29362563790167306, min_samples_split=39;, score=0.590 total time=18.1min\n",
      "[CV 2/5; 6/100] START max_depth=2, max_features=0.29362563790167306, min_samples_split=39\n",
      "[CV 2/5; 6/100] END max_depth=2, max_features=0.29362563790167306, min_samples_split=39;, score=0.586 total time=  39.3s\n",
      "[CV 3/5; 6/100] START max_depth=2, max_features=0.29362563790167306, min_samples_split=39\n",
      "[CV 3/5; 6/100] END max_depth=2, max_features=0.29362563790167306, min_samples_split=39;, score=0.598 total time=16.9min\n",
      "[CV 4/5; 6/100] START max_depth=2, max_features=0.29362563790167306, min_samples_split=39\n",
      "[CV 4/5; 6/100] END max_depth=2, max_features=0.29362563790167306, min_samples_split=39;, score=0.582 total time=15.5min\n",
      "[CV 5/5; 6/100] START max_depth=2, max_features=0.29362563790167306, min_samples_split=39\n",
      "[CV 5/5; 6/100] END max_depth=2, max_features=0.29362563790167306, min_samples_split=39;, score=0.586 total time=18.0min\n",
      "[CV 1/5; 7/100] START max_depth=27, max_features=0.2813520196953129, min_samples_split=5\n",
      "[CV 1/5; 7/100] END max_depth=27, max_features=0.2813520196953129, min_samples_split=5;, score=0.780 total time=43.5min\n",
      "[CV 2/5; 7/100] START max_depth=27, max_features=0.2813520196953129, min_samples_split=5\n",
      "[CV 2/5; 7/100] END max_depth=27, max_features=0.2813520196953129, min_samples_split=5;, score=0.779 total time= 3.0min\n",
      "[CV 3/5; 7/100] START max_depth=27, max_features=0.2813520196953129, min_samples_split=5\n",
      "[CV 3/5; 7/100] END max_depth=27, max_features=0.2813520196953129, min_samples_split=5;, score=0.778 total time= 3.7min\n",
      "[CV 4/5; 7/100] START max_depth=27, max_features=0.2813520196953129, min_samples_split=5\n",
      "[CV 4/5; 7/100] END max_depth=27, max_features=0.2813520196953129, min_samples_split=5;, score=0.776 total time=81.8min\n",
      "[CV 5/5; 7/100] START max_depth=27, max_features=0.2813520196953129, min_samples_split=5\n",
      "[CV 5/5; 7/100] END max_depth=27, max_features=0.2813520196953129, min_samples_split=5;, score=0.781 total time= 3.4min\n",
      "[CV 1/5; 8/100] START max_depth=17, max_features=0.2580183485058877, min_samples_split=27\n",
      "[CV 1/5; 8/100] END max_depth=17, max_features=0.2580183485058877, min_samples_split=27;, score=0.743 total time= 2.3min\n",
      "[CV 2/5; 8/100] START max_depth=17, max_features=0.2580183485058877, min_samples_split=27\n",
      "[CV 2/5; 8/100] END max_depth=17, max_features=0.2580183485058877, min_samples_split=27;, score=0.741 total time= 2.2min\n",
      "[CV 3/5; 8/100] START max_depth=17, max_features=0.2580183485058877, min_samples_split=27\n",
      "[CV 3/5; 8/100] END max_depth=17, max_features=0.2580183485058877, min_samples_split=27;, score=0.740 total time= 2.4min\n",
      "[CV 4/5; 8/100] START max_depth=17, max_features=0.2580183485058877, min_samples_split=27\n",
      "[CV 4/5; 8/100] END max_depth=17, max_features=0.2580183485058877, min_samples_split=27;, score=0.735 total time= 2.6min\n",
      "[CV 5/5; 8/100] START max_depth=17, max_features=0.2580183485058877, min_samples_split=27\n"
     ]
    },
    {
     "name": "stdout",
     "output_type": "stream",
     "text": [
      "[CV 5/5; 8/100] END max_depth=17, max_features=0.2580183485058877, min_samples_split=27;, score=0.742 total time= 2.2min\n",
      "[CV 1/5; 9/100] START max_depth=6, max_features=0.2857806489039908, min_samples_split=21\n",
      "[CV 1/5; 9/100] END max_depth=6, max_features=0.2857806489039908, min_samples_split=21;, score=0.701 total time= 1.1min\n",
      "[CV 2/5; 9/100] START max_depth=6, max_features=0.2857806489039908, min_samples_split=21\n",
      "[CV 2/5; 9/100] END max_depth=6, max_features=0.2857806489039908, min_samples_split=21;, score=0.699 total time= 1.2min\n",
      "[CV 3/5; 9/100] START max_depth=6, max_features=0.2857806489039908, min_samples_split=21\n",
      "[CV 3/5; 9/100] END max_depth=6, max_features=0.2857806489039908, min_samples_split=21;, score=0.698 total time=47.8min\n",
      "[CV 4/5; 9/100] START max_depth=6, max_features=0.2857806489039908, min_samples_split=21\n",
      "[CV 4/5; 9/100] END max_depth=6, max_features=0.2857806489039908, min_samples_split=21;, score=0.690 total time=50.1min\n",
      "[CV 5/5; 9/100] START max_depth=6, max_features=0.2857806489039908, min_samples_split=21\n",
      "[CV 5/5; 9/100] END max_depth=6, max_features=0.2857806489039908, min_samples_split=21;, score=0.697 total time=62.5min\n",
      "[CV 1/5; 10/100] START max_depth=11, max_features=0.32674261483257294, min_samples_split=28\n"
     ]
    }
   ],
   "source": [
    "rf_model = RandomForestClassifier(n_estimators=500,\n",
    "                                  criterion=\"entropy\",\n",
    "                                  max_leaf_nodes=None)\n",
    "\n",
    "\n",
    "# ----- Parameter Distributions -----\n",
    "param_dists = {\"max_depth\": distributions.randint(2, 30),\n",
    "               \"min_samples_split\": LogUniformInt(min_val=2, max_val=50),\n",
    "               # normally distributed max_features, with mean .25 stddev 0.1, bounded between 0 and 1\n",
    "               \"max_features\":  distributions.truncnorm(a=0, b=1, loc=0.25, scale=0.1)}\n",
    "\n",
    "\n",
    "f1_scorer = make_scorer(f1_score , average='weighted')\n",
    "n_iter=100\n",
    "\n",
    "clf = RandomizedSearchCV(rf_model,    \n",
    "                         param_dists,\n",
    "                         n_jobs=1,\n",
    "                         n_iter=n_iter,\n",
    "                         cv=5, # for classification defaults to StratefiedKFold\n",
    "                         random_state=99,\n",
    "                         scoring=f1_scorer,\n",
    "                         verbose=10)\n",
    "\n",
    "\n",
    "cv_model = clf.fit(X_train, y_train)\n",
    "\n",
    "\n",
    "# get the best params\n",
    "best_params = cv_model.best_estimator_.get_params()"
   ]
  },
  {
   "cell_type": "markdown",
   "id": "c068b1ed",
   "metadata": {},
   "source": [
    "#### View Feature Sensativities\n",
    "\n",
    "TODO: update to read in historical data using MLFlow"
   ]
  },
  {
   "cell_type": "code",
   "execution_count": null,
   "id": "2f3f95a4",
   "metadata": {},
   "outputs": [],
   "source": [
    "results_df = pd.DataFrame(cv_model.cv_results_[\"params\"])\n",
    "results_df[\"mean_test_score\"] = cv_model.cv_results_[\"mean_test_score\"]"
   ]
  },
  {
   "cell_type": "code",
   "execution_count": null,
   "id": "14d32217",
   "metadata": {},
   "outputs": [],
   "source": [
    "results_df.sort_values([\"mean_test_score\"], ascending=False).head(20)"
   ]
  },
  {
   "cell_type": "markdown",
   "id": "77c118cd",
   "metadata": {},
   "source": [
    "__Generate predictions__: on our dev set, so that we can compare to other models"
   ]
  },
  {
   "cell_type": "code",
   "execution_count": null,
   "id": "91c68c04",
   "metadata": {},
   "outputs": [],
   "source": [
    "best_rfc_model = RandomForestClassifier(**best_params)\n",
    "\n",
    "\n",
    "with mlflow.start_run(experiment_id=1) as run:\n",
    "    best_rfc_model.fit(X_train, y_train)\n",
    "    mlflow.sklearn.eval_and_log_metrics(model=best_rfc_model,\n",
    "                                        X=X_dev_clean,\n",
    "                                        y_true=y_dev,\n",
    "                                        prefix=\"dev_\")\n",
    "    y_pred = best_rfc_model.predict(X_dev)\n",
    "    \n",
    "    \n",
    "    mlflow.sklearn.save_model(best_rfc_model, path=\"../artifacts/rf_best2/\")"
   ]
  },
  {
   "cell_type": "code",
   "execution_count": null,
   "id": "5a8be401",
   "metadata": {},
   "outputs": [],
   "source": []
  }
 ],
 "metadata": {
  "kernelspec": {
   "display_name": "Python 3 (ipykernel)",
   "language": "python",
   "name": "python3"
  },
  "language_info": {
   "codemirror_mode": {
    "name": "ipython",
    "version": 3
   },
   "file_extension": ".py",
   "mimetype": "text/x-python",
   "name": "python",
   "nbconvert_exporter": "python",
   "pygments_lexer": "ipython3",
   "version": "3.8.13"
  }
 },
 "nbformat": 4,
 "nbformat_minor": 5
}
