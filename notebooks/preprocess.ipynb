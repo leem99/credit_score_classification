{
 "cells": [
  {
   "cell_type": "markdown",
   "id": "dfd7c3db",
   "metadata": {},
   "source": [
    "Take the outputs of \"clean_data.ipynb\" and do the following steps:\n",
    "\n",
    "* standard scaler\n",
    "* knn imputer\n",
    "\n",
    "\n",
    "We would do these as part of our model training process; however, \n",
    "`KNNImputer` is slow and takes up a lot of memory."
   ]
  },
  {
   "cell_type": "code",
   "execution_count": 5,
   "id": "99be57bf",
   "metadata": {},
   "outputs": [],
   "source": [
    "import pandas as pd\n",
    "import numpy as np\n",
    "from copy import deepcopy\n",
    "\n",
    "from sklearn.preprocessing import StandardScaler\n",
    "from sklearn.impute import KNNImputer\n",
    "from sklearn.pipeline import Pipeline\n",
    "\n",
    "%config Completer.use_jedi = False"
   ]
  },
  {
   "cell_type": "markdown",
   "id": "d3b81bef",
   "metadata": {},
   "source": [
    "Define Pipeline"
   ]
  },
  {
   "cell_type": "code",
   "execution_count": 2,
   "id": "b91e71d2",
   "metadata": {},
   "outputs": [],
   "source": [
    "# We will scale before imputing\n",
    "# This is because KNNImputer uses Euclidean distance\n",
    "# which could be impacted by having columns of different\n",
    "# scales\n",
    "scaler = StandardScaler()\n",
    "knn_imputer = KNNImputer(n_neighbors=5)\n",
    "\n",
    "steps = [(\"scaler\", scaler),\n",
    "         (\"imputer\", knn_imputer)]\n",
    "\n",
    "preprocess_pipeline = Pipeline(steps=steps)"
   ]
  },
  {
   "cell_type": "markdown",
   "id": "7fdd09c9",
   "metadata": {},
   "source": [
    "Apply preprocessing to one file at a time"
   ]
  },
  {
   "cell_type": "code",
   "execution_count": 6,
   "id": "a61656e7",
   "metadata": {},
   "outputs": [
    {
     "name": "stdout",
     "output_type": "stream",
     "text": [
      "0\n",
      "1\n",
      "2\n"
     ]
    }
   ],
   "source": [
    "data_folder = \"../data/\"\n",
    "file_list = [ \"dev_cleaned\", \"test_cleaned\", \"train_cleaned\"]\n",
    "\n",
    "\n",
    "for ix, f in enumerate(file_list):\n",
    "    \n",
    "    print(ix)\n",
    "    \n",
    "    full_file_name = data_folder + f + \".csv\"\n",
    "    \n",
    "    df = pd.read_csv(full_file_name)\n",
    "    all_columns = deepcopy(df.columns)\n",
    "        \n",
    "    labels = df.pop(\"Credit_Score\")\n",
    "    \n",
    "    # generate transformed data\n",
    "    final_values = preprocess_pipeline.fit_transform(df)\n",
    "    \n",
    "    # Add back data labels\n",
    "    label_values = labels.values.reshape(-1, 1)\n",
    "    final_values = np.concatenate([final_values, label_values], axis=1)\n",
    "    \n",
    "    # convert back to Pandas Dataframe\n",
    "    final_df = pd.DataFrame(final_values, columns=all_columns)\n",
    "    \n",
    "    # write to file\n",
    "    final_file_name = data_folder + f + \"_imputed.csv\"\n",
    "    final_df.to_csv(final_file_name, header=True, index=False)"
   ]
  },
  {
   "cell_type": "code",
   "execution_count": null,
   "id": "6e047961",
   "metadata": {},
   "outputs": [],
   "source": []
  }
 ],
 "metadata": {
  "kernelspec": {
   "display_name": "Python 3 (ipykernel)",
   "language": "python",
   "name": "python3"
  },
  "language_info": {
   "codemirror_mode": {
    "name": "ipython",
    "version": 3
   },
   "file_extension": ".py",
   "mimetype": "text/x-python",
   "name": "python",
   "nbconvert_exporter": "python",
   "pygments_lexer": "ipython3",
   "version": "3.8.13"
  }
 },
 "nbformat": 4,
 "nbformat_minor": 5
}
