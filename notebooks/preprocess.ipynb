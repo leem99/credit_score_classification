{
 "cells": [
  {
   "cell_type": "markdown",
   "id": "8991f65b",
   "metadata": {
    "papermill": {
     "duration": 0.003485,
     "end_time": "2022-09-11T20:55:09.296761",
     "exception": false,
     "start_time": "2022-09-11T20:55:09.293276",
     "status": "completed"
    },
    "tags": []
   },
   "source": [
    "Take the outputs of \"clean_data.ipynb\" and do the following steps:\n",
    "\n",
    "* standard scaler\n",
    "* knn imputer\n",
    "\n",
    "\n",
    "We would do these as part of our model training process; however, \n",
    "`KNNImputer` is slow and takes up a lot of memory."
   ]
  },
  {
   "cell_type": "code",
   "execution_count": 1,
   "id": "777e6974",
   "metadata": {
    "execution": {
     "iopub.execute_input": "2022-09-11T20:55:09.303990Z",
     "iopub.status.busy": "2022-09-11T20:55:09.303460Z",
     "iopub.status.idle": "2022-09-11T20:55:10.701806Z",
     "shell.execute_reply": "2022-09-11T20:55:10.700522Z"
    },
    "papermill": {
     "duration": 1.405426,
     "end_time": "2022-09-11T20:55:10.704758",
     "exception": false,
     "start_time": "2022-09-11T20:55:09.299332",
     "status": "completed"
    },
    "tags": []
   },
   "outputs": [],
   "source": [
    "import pandas as pd\n",
    "import numpy as np\n",
    "from copy import deepcopy\n",
    "\n",
    "from sklearn.preprocessing import StandardScaler\n",
    "from sklearn.impute import KNNImputer\n",
    "from sklearn.pipeline import Pipeline\n",
    "\n",
    "%config Completer.use_jedi = False"
   ]
  },
  {
   "cell_type": "markdown",
   "id": "7ae37d7a",
   "metadata": {
    "papermill": {
     "duration": 0.002104,
     "end_time": "2022-09-11T20:55:10.709444",
     "exception": false,
     "start_time": "2022-09-11T20:55:10.707340",
     "status": "completed"
    },
    "tags": []
   },
   "source": [
    "Define Pipeline"
   ]
  },
  {
   "cell_type": "code",
   "execution_count": 2,
   "id": "ee3d2c3c",
   "metadata": {
    "execution": {
     "iopub.execute_input": "2022-09-11T20:55:10.716602Z",
     "iopub.status.busy": "2022-09-11T20:55:10.715508Z",
     "iopub.status.idle": "2022-09-11T20:55:10.722506Z",
     "shell.execute_reply": "2022-09-11T20:55:10.721182Z"
    },
    "papermill": {
     "duration": 0.01317,
     "end_time": "2022-09-11T20:55:10.724959",
     "exception": false,
     "start_time": "2022-09-11T20:55:10.711789",
     "status": "completed"
    },
    "tags": []
   },
   "outputs": [],
   "source": [
    "# We will scale before imputing\n",
    "# This is because KNNImputer uses Euclidean distance\n",
    "# which could be impacted by having columns of different\n",
    "# scales\n",
    "scaler = StandardScaler()\n",
    "knn_imputer = KNNImputer(n_neighbors=5)\n",
    "\n",
    "steps = [(\"scaler\", scaler),\n",
    "         (\"imputer\", knn_imputer)]\n",
    "\n",
    "preprocess_pipeline = Pipeline(steps=steps)"
   ]
  },
  {
   "cell_type": "markdown",
   "id": "a1b8916d",
   "metadata": {
    "papermill": {
     "duration": 0.002143,
     "end_time": "2022-09-11T20:55:10.729924",
     "exception": false,
     "start_time": "2022-09-11T20:55:10.727781",
     "status": "completed"
    },
    "tags": []
   },
   "source": [
    "Apply preprocessing to one file at a time"
   ]
  },
  {
   "cell_type": "code",
   "execution_count": 3,
   "id": "7d0843ff",
   "metadata": {
    "execution": {
     "iopub.execute_input": "2022-09-11T20:55:10.737346Z",
     "iopub.status.busy": "2022-09-11T20:55:10.736067Z",
     "iopub.status.idle": "2022-09-11T21:05:55.348857Z",
     "shell.execute_reply": "2022-09-11T21:05:55.346912Z"
    },
    "papermill": {
     "duration": 644.621757,
     "end_time": "2022-09-11T21:05:55.353993",
     "exception": false,
     "start_time": "2022-09-11T20:55:10.732236",
     "status": "completed"
    },
    "tags": []
   },
   "outputs": [
    {
     "name": "stdout",
     "output_type": "stream",
     "text": [
      "0\n",
      "1\n",
      "2\n"
     ]
    }
   ],
   "source": [
    "input_folder = \"../input/credit-score-prediction-project/\"\n",
    "output_folder = \"/kaggle/working/\"\n",
    "file_list = [ \"dev_cleaned\", \"test_cleaned\", \"train_cleaned\"]\n",
    "\n",
    "\n",
    "for ix, f in enumerate(file_list):\n",
    "    \n",
    "    print(ix)\n",
    "    \n",
    "    full_file_name = input_folder + f + \".csv\"\n",
    "    \n",
    "    df = pd.read_csv(full_file_name)\n",
    "    all_columns = deepcopy(df.columns)\n",
    "        \n",
    "    labels = df.pop(\"Credit_Score\")\n",
    "    \n",
    "    # generate transformed data\n",
    "    final_values = preprocess_pipeline.fit_transform(df)\n",
    "    \n",
    "    # Add back data labels\n",
    "    label_values = labels.values.reshape(-1, 1)\n",
    "    final_values = np.concatenate([final_values, label_values], axis=1)\n",
    "    \n",
    "    # convert back to Pandas Dataframe\n",
    "    final_df = pd.DataFrame(final_values, columns=all_columns)\n",
    "    \n",
    "    # write to file\n",
    "    final_file_name = output_folder + f + \"_imputed.csv\"\n",
    "    final_df.to_csv(final_file_name, header=True, index=False)"
   ]
  },
  {
   "cell_type": "code",
   "execution_count": null,
   "id": "487fb4bb",
   "metadata": {
    "papermill": {
     "duration": 0.00264,
     "end_time": "2022-09-11T21:05:55.362149",
     "exception": false,
     "start_time": "2022-09-11T21:05:55.359509",
     "status": "completed"
    },
    "tags": []
   },
   "outputs": [],
   "source": []
  }
 ],
 "metadata": {
  "kernelspec": {
   "display_name": "Python 3",
   "language": "python",
   "name": "python3"
  },
  "language_info": {
   "codemirror_mode": {
    "name": "ipython",
    "version": 3
   },
   "file_extension": ".py",
   "mimetype": "text/x-python",
   "name": "python",
   "nbconvert_exporter": "python",
   "pygments_lexer": "ipython3",
   "version": "3.7.12"
  },
  "papermill": {
   "default_parameters": {},
   "duration": 656.470099,
   "end_time": "2022-09-11T21:05:56.290800",
   "environment_variables": {},
   "exception": null,
   "input_path": "__notebook__.ipynb",
   "output_path": "__notebook__.ipynb",
   "parameters": {},
   "start_time": "2022-09-11T20:54:59.820701",
   "version": "2.3.4"
  }
 },
 "nbformat": 4,
 "nbformat_minor": 5
}
